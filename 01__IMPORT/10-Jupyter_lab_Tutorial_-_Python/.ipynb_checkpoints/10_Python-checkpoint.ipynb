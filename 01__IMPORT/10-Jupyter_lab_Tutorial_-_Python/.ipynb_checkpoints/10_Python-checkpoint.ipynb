{
 "cells": [
  {
   "cell_type": "markdown",
   "metadata": {},
   "source": [
    "+ Requirements:\n",
    "    1. Install all the tools according to the guide \"T0_Tools installation.pdf\".\n",
    "    2. The estimated time for this activity is approximately one hour.\n",
    "<br><br>\n",
    "+ Objectives of this notebook:\n",
    "    1. Python presentation.\n",
    "    2. Presentation of Numpy.\n",
    "<br><br>\n",
    "+ Summary of activities:\n",
    "    1. Small pieces of code will be analyzed.\n",
    "    2. You will start programming in Python using Numpy."
   ]
  },
  {
   "cell_type": "markdown",
   "metadata": {},
   "source": [
    "%%latex\n",
    "\\tableofcontents"
   ]
  },
  {
   "cell_type": "markdown",
   "metadata": {},
   "source": [
    "# Introduction to Python\n",
    "Python is an interpreted programming language whose philosophy emphasizes the readability of its code. It is a cross-platform and multi-paradigm programming language, as it supports object-oriented, imperative and functional programming.\n",
    "\n",
    "This tutorial is intended to be useful as a first contact with Python. More Python programming information can be found in this other [Python tutorial](https://docs.python.org/3/tutorial/index.html) or in this [book](https://link.springer.com/book/10.1007%2F978-1-4842-4246-9)."
   ]
  },
  {
   "cell_type": "code",
   "execution_count": 1,
   "metadata": {},
   "outputs": [
    {
     "name": "stdout",
     "output_type": "stream",
     "text": [
      "Python 3.8.13\n",
      "Selected Jupyter core packages...\n",
      "IPython          : 8.1.1\n",
      "ipykernel        : 6.9.1\n",
      "ipywidgets       : 7.6.5\n",
      "jupyter_client   : 7.1.2\n",
      "jupyter_core     : 4.9.2\n",
      "jupyter_server   : 1.13.5\n",
      "jupyterlab       : 3.3.2\n",
      "nbclient         : 0.5.11\n",
      "nbconvert        : 6.1.0\n",
      "nbformat         : 5.1.3\n",
      "notebook         : 6.4.8\n",
      "qtconsole        : not installed\n",
      "traitlets        : 5.1.1\n"
     ]
    }
   ],
   "source": [
    "# **** It is important to consult the help of the version you are using ****\n",
    "!python --version   # Shows the installed Python version\n",
    "!jupyter --version"
   ]
  },
  {
   "cell_type": "markdown",
   "metadata": {},
   "source": [
    "## Basic data types"
   ]
  },
  {
   "cell_type": "markdown",
   "metadata": {},
   "source": [
    "### Numbers"
   ]
  },
  {
   "cell_type": "code",
   "execution_count": null,
   "metadata": {},
   "outputs": [],
   "source": [
    "x = 3 \n",
    "print(type(x)) # Prints \"<class 'int'>\" \n",
    "print(x)       # Prints \"3\" \n",
    "print(x + 1)   # Addition; prints \"4\" \n",
    "print(x - 1)   # Subtraction; prints \"2\" \n",
    "print(x * 2)   # Multiplication; prints \"6\" \n",
    "print(x ** 2)  # Power; prints \"9\" \n",
    "x += 1 \n",
    "print(x)  # Prints \"4\" \n",
    "x *= 2 \n",
    "print(x)  # Prints \"8\" \n",
    "y = 2.5 \n",
    "print(type(y)) # Prints \"<class 'float'>\" \n",
    "print(y, y + 1, y * 2, y ** 2) # Prints \"2.5 3.5 5.0 6.25\" "
   ]
  },
  {
   "cell_type": "markdown",
   "metadata": {},
   "source": [
    "### Booleans"
   ]
  },
  {
   "cell_type": "code",
   "execution_count": null,
   "metadata": {},
   "outputs": [],
   "source": [
    "t = True \n",
    "f = False \n",
    "print(type(t)) # Prints \"<class 'bool'>\" \n",
    "print(t and f) # AND; prints \"False\" \n",
    "print(t or f)  # OR; prints \"True\" \n",
    "print(not t)   # NOT; prints \"False\" \n",
    "print(t != f)  # XOR; prints \"True\" "
   ]
  },
  {
   "cell_type": "markdown",
   "metadata": {
    "tags": []
   },
   "source": [
    "### Strings"
   ]
  },
  {
   "cell_type": "code",
   "execution_count": null,
   "metadata": {},
   "outputs": [],
   "source": [
    "hello = 'hello'    # String literals can use single quotes \n",
    "world = \"world\"    # or double quotes; it does not matter. \n",
    "print(hello)       # Prints \"hello\" \n",
    "print(len(hello))  # length; prints \"5\" \n",
    "hw = hello + ' ' + world  # concatenation \n",
    "print(hw)          # Prints \"hello world\" \n",
    "hw12 = '%s %s %d' % (hello, world, 12)  # format\n",
    "print(hw12)        # Prints \"hello world 12\" "
   ]
  },
  {
   "cell_type": "markdown",
   "metadata": {},
   "source": [
    "### Lists"
   ]
  },
  {
   "cell_type": "code",
   "execution_count": null,
   "metadata": {},
   "outputs": [],
   "source": [
    "# Assignments\n",
    "xs = [3, 1, 2]    # Creates a list \n",
    "print(xs, xs[2])  # Prints \"[3, 1, 2] 2\" \n",
    "print(xs[-1])     # Negative indices count from the end of the list; prints \"2\" \n",
    "xs[2] = 'foo'     # Lists can contain elements of different types \n",
    "print(xs)         # Prints \"[3, 1, 'foo']\" \n",
    "xs.append('bar')  # Appends an element to the end of the list \n",
    "print(xs)         # Prints \"[3, 1, 'foo', 'bar']\" \n",
    "x = xs.pop()      # Removes an element at the end of the list \n",
    "print(x, xs)      # Prints \"bar [3, 1, 'foo']\" "
   ]
  },
  {
   "cell_type": "code",
   "execution_count": null,
   "metadata": {},
   "outputs": [],
   "source": [
    "# Indexing\n",
    "nums = list(range(5)) # Creates a list with a range of integer values\n",
    "print(nums)           # Prints \"[0, 1, 2, 3, 4]\" \n",
    "print(nums[2:4])      # Gets the elements from index 2 to 4 (excluding the 4);\n",
    "                      # prints \"[2, 3]\" \n",
    "print(nums[2:])       # Gets the elements from index 2 to the end;\n",
    "                      # prints \"[2, 3, 4]\" \n",
    "print(nums[:2])       # Gets the elements from the beginning to the index 1;\n",
    "                      # prints \"[0, 1]\" \n",
    "print(nums[:])        # Gets the elements of the whole list;\n",
    "                      # prints \"[0, 1, 2, 3, 4]\" \n",
    "print(nums[:-1])      # The indices can be negatives; prints \"[0, 1, 2, 3]\" \n",
    "nums[2:4] = [8, 9]    # Assigns a sublist\n",
    "print(nums)           # Prints \"[0, 1, 8, 9, 4]\" "
   ]
  },
  {
   "cell_type": "code",
   "execution_count": null,
   "metadata": {},
   "outputs": [],
   "source": [
    "# Loops\n",
    "animals = ['cat', 'dog', 'monkey'] \n",
    "for animal in animals: \n",
    "    print(animal)\n",
    "    print('hello')\n",
    "print('fin')"
   ]
  },
  {
   "cell_type": "code",
   "execution_count": null,
   "metadata": {},
   "outputs": [],
   "source": [
    "animals = ['cat', 'dog', 'monkey'] \n",
    "for idx, animal in enumerate(animals): \n",
    "    print('#%d: %s' % (idx + 1, animal)) "
   ]
  },
  {
   "cell_type": "code",
   "execution_count": null,
   "metadata": {},
   "outputs": [],
   "source": [
    "nums = [0, 1, 2, 3, 4] \n",
    "squares = [] \n",
    "for x in nums: \n",
    "    squares.append(x ** 2) \n",
    "print(squares)"
   ]
  },
  {
   "cell_type": "code",
   "execution_count": null,
   "metadata": {},
   "outputs": [],
   "source": [
    "nums = [0, 1, 2, 3, 4] \n",
    "squares = [x ** 2 for x in nums] \n",
    "print(squares)"
   ]
  },
  {
   "cell_type": "code",
   "execution_count": null,
   "metadata": {},
   "outputs": [],
   "source": [
    "nums = [0, 1, 2, 3, 4] \n",
    "even_squares = [x ** 2 for x in nums if x % 2 == 0] \n",
    "print(even_squares)"
   ]
  },
  {
   "cell_type": "markdown",
   "metadata": {
    "tags": []
   },
   "source": [
    "### Tuples"
   ]
  },
  {
   "cell_type": "code",
   "execution_count": null,
   "metadata": {},
   "outputs": [],
   "source": [
    "r= 4,3,1"
   ]
  },
  {
   "cell_type": "code",
   "execution_count": null,
   "metadata": {},
   "outputs": [],
   "source": [
    "# Assignments\n",
    "a = (4,)                   # To create a tuple with a single element,\n",
    "                           # you need to include a comma at the end\n",
    "print('Type:',type(a))\n",
    "print('Length:',len(a))\n",
    "b = 'hola','coracola'      # The parentheses are not necessary\n",
    "print(b)\n",
    "a = a + b                  # concatenation operation\n",
    "print(a)\n",
    "print(a[-1])               # access to the last item"
   ]
  },
  {
   "cell_type": "code",
   "execution_count": null,
   "metadata": {},
   "outputs": [],
   "source": [
    "# Loops\n",
    "for element in a:\n",
    "    print(element)"
   ]
  },
  {
   "cell_type": "code",
   "execution_count": null,
   "metadata": {},
   "outputs": [],
   "source": [
    "# Problem: with tuples the following assignment of a value is not allowed by\n",
    "# indexing the position\n",
    "a[3]=0"
   ]
  },
  {
   "cell_type": "markdown",
   "metadata": {},
   "source": [
    "However, it is shown below, that lists allows this kind of assignment."
   ]
  },
  {
   "cell_type": "code",
   "execution_count": null,
   "metadata": {},
   "outputs": [],
   "source": [
    "a=[1,'po', 'lists', 4]\n",
    "print(a[-1])\n",
    "a[-1]= 'success'\n",
    "print(a[-1])"
   ]
  },
  {
   "cell_type": "code",
   "execution_count": null,
   "metadata": {},
   "outputs": [],
   "source": [
    "# In addition, lists also allow concatenation with the + operand\n",
    "b=[[],[]]\n",
    "b[0]=b[0]+[1] \n",
    "b[0]=b[0]+[2]\n",
    "print(b)"
   ]
  },
  {
   "cell_type": "markdown",
   "metadata": {},
   "source": [
    "### Dictionaries"
   ]
  },
  {
   "cell_type": "code",
   "execution_count": null,
   "metadata": {},
   "outputs": [],
   "source": [
    "# Assignments\n",
    "d = {'cat': 'cute', 'dog': 'furry'}  # Creates a dictionary\n",
    "print(d['cat'])       # Gets the value from the key entry 'cat'; prints \"cute\" \n",
    "print('cat' in d)     # Checks whether the dictionary has the entry 'cat';\n",
    "                      # prints \"True\" \n",
    "d['fish'] = 'wet'     # Adds a new entry with the key 'fish' to the dictionary\n",
    "print(d['fish'])      # Prints \"wet\" \n",
    "\n",
    "# print(d['monkey'])  # KeyError: 'monkey' is not an entry of d\n",
    "print(d.get('monkey', 'N/A')) # Gets the key 'monkey' with a value by default;\n",
    "                              # prints \"N/A\" \n",
    "print(d.get('fish', 'N/A'))   # Prints \"wet\" \n",
    "del d['fish']         # Removes the 'fish' item from the dictionary\n",
    "print(d.get('fish', 'N/A')) # \"fish\" is no longer an input key; prints \"N/A\""
   ]
  },
  {
   "cell_type": "code",
   "execution_count": null,
   "metadata": {},
   "outputs": [],
   "source": [
    "# Loops\n",
    "d = {'person': 2, 'cat': 4, 'spider': 8} \n",
    "for animal in d: \n",
    "    legs = d[animal] \n",
    "    print('A %s has %d legs' % (animal, legs)) \n",
    "# Prints \"A person has 2 legs\", \"A cat has 4 legs\", \"A spider has 8 legs\" "
   ]
  },
  {
   "cell_type": "code",
   "execution_count": null,
   "metadata": {},
   "outputs": [],
   "source": [
    "d = {'person': 2, 'cat': 4, 'spider': 8} \n",
    "for animal, legs in d.items(): \n",
    "    print('A %s has %d legs' % (animal, legs)) \n",
    "# Prints \"A person has 2 legs\", \"A cat has 4 legs\", \"A spider has 8 legs\" "
   ]
  },
  {
   "cell_type": "markdown",
   "metadata": {},
   "source": [
    "### Sets"
   ]
  },
  {
   "cell_type": "code",
   "execution_count": null,
   "metadata": {},
   "outputs": [],
   "source": [
    "# Assignments\n",
    "animals = {'cat', 'dog'} \n",
    "print('cat' in animals)   # Check if an element belongs to a set; print \"True\" \n",
    "print('fish' in animals)  # Print \"False\" \n",
    "animals.add('fish')       # Add an element to the set \n",
    "print('fish' in animals)  # Print \"True\" \n",
    "print(len(animals))       # Cardinal number of the set; prints \"3\" \n",
    "animals.add('cat')        # Does not add anything if the element already belongs to the set \n",
    "print(len(animals))       # Prints \"3\" \n",
    "animals.remove('cat')     # Removes an element from the set\n",
    "print(len(animals))       # Prints \"2\" "
   ]
  },
  {
   "cell_type": "code",
   "execution_count": null,
   "metadata": {},
   "outputs": [],
   "source": [
    "# Loops\n",
    "for idx, animal in enumerate(animals): \n",
    "    print('#%d: %s' % (idx + 1, animal)) \n",
    "# Prints \"#1: fish\", \"#2: dog\", \"#3: cat\" "
   ]
  },
  {
   "cell_type": "code",
   "execution_count": null,
   "metadata": {},
   "outputs": [],
   "source": [
    "from math import sqrt\n",
    "nums = {int(sqrt(x)) for x in range(30)} \n",
    "print(nums)  # Prints \"{0, 1, 2, 3, 4, 5}\" "
   ]
  },
  {
   "cell_type": "markdown",
   "metadata": {},
   "source": [
    "## Functions"
   ]
  },
  {
   "cell_type": "code",
   "execution_count": null,
   "metadata": {},
   "outputs": [],
   "source": [
    "def sign(x):\n",
    "    if x > 0: \n",
    "        return 'positivo' \n",
    "    elif x < 0: \n",
    "        return 'negativo' \n",
    "    else: \n",
    "        return 'cero' "
   ]
  },
  {
   "cell_type": "code",
   "execution_count": null,
   "metadata": {},
   "outputs": [],
   "source": [
    "for x in [-1, 0, 1]: \n",
    "    print(sign(x)) "
   ]
  },
  {
   "cell_type": "markdown",
   "metadata": {
    "tags": []
   },
   "source": [
    "## Classes"
   ]
  },
  {
   "cell_type": "code",
   "execution_count": null,
   "metadata": {},
   "outputs": [],
   "source": [
    "class Object:\n",
    "    def __init__(self, name, pos=(0,0)):\n",
    "        self.name = name\n",
    "        self.pos = pos\n",
    "        self.inc_pos = (10,5)\n",
    "        \n",
    "    def next_pos(self):\n",
    "        self.pos = ( self.pos[0]+self.inc_pos[0], self.pos[1]+self.inc_pos[1] )"
   ]
  },
  {
   "cell_type": "code",
   "execution_count": null,
   "metadata": {},
   "outputs": [],
   "source": [
    "obj = Object('car')"
   ]
  },
  {
   "cell_type": "code",
   "execution_count": null,
   "metadata": {},
   "outputs": [],
   "source": [
    "for t in range(10):\n",
    "    print('Object pos of', obj.name, 'at', t, obj.pos)\n",
    "    obj.next_pos()"
   ]
  },
  {
   "cell_type": "markdown",
   "metadata": {
    "tags": []
   },
   "source": [
    "# Introduction to Numpy"
   ]
  },
  {
   "cell_type": "markdown",
   "metadata": {},
   "source": [
    "Numpy is Python's scientific computing library. It provides the definition of the multidimensional\n",
    "array object class and all the methods for working with these arrays.\n",
    "\n",
    "There are many tutorials to learn Numpy, such as this [tutorial de Numpy](https://numpy.org/doc/stable/user/quickstart.html). To use Numpy's functionality, you must first import the library."
   ]
  },
  {
   "cell_type": "code",
   "execution_count": null,
   "metadata": {},
   "outputs": [],
   "source": [
    "import numpy as np"
   ]
  },
  {
   "cell_type": "code",
   "execution_count": null,
   "metadata": {},
   "outputs": [],
   "source": [
    "# **** It is important to consult the help of the version you are using ****\n",
    "print('Numpy:',np.__version__) # Displays the version of Numpy"
   ]
  },
  {
   "cell_type": "markdown",
   "metadata": {},
   "source": [
    "## Data type ndarray"
   ]
  },
  {
   "cell_type": "code",
   "execution_count": null,
   "metadata": {},
   "outputs": [],
   "source": [
    "a = np.array([1, 2, 3])   # Creates a vector from a list\n",
    "print(type(a))            # Prints \"<class 'numpy.ndarray'>\" \n",
    "print(a.shape)            # Prints \"(3,)\" \n",
    "print(a[0], a[1], a[2])   # Prints \"1 2 3\" \n",
    "a[0] = 5                  # Changes the value of the first element \n",
    "print(a)                  # Prints \"[5, 2, 3]\" \n",
    "b = np.array([[1,2,3],[4,5,6]])    # Creates a two-dimensional array from a\n",
    "                                   # list of lists\n",
    "print(b.shape)                     # Prints \"(2, 3)\" \n",
    "print(b[0, 0], b[0, 1], b[1, 0])   # Prints \"1 2 4\" "
   ]
  },
  {
   "cell_type": "code",
   "execution_count": null,
   "metadata": {},
   "outputs": [],
   "source": [
    "a = np.zeros((2,2))    # Creates an array of zeros\n",
    "print(a)               # Prints \"[[ 0.  0.] \n",
    "                       #          [ 0.  0.]]\" \n",
    "b = np.ones((1,2))     # Creates a vector of ones\n",
    "print(b)               # Prints \"[[ 1.  1.]]\"\n",
    "\n",
    "c = np.full((2,2), 7)  # Creates a constant array of 7 \n",
    "print(c)               # Prints \"[[ 7.  7.] \n",
    "                       #          [ 7.  7.]]\" \n",
    "d = np.eye(2)          # Creates an identity matrix of size 2x2\n",
    "print(d)               # Prints \"[[ 1.  0.] \n",
    "                       #          [ 0.  1.]]\" "
   ]
  },
  {
   "cell_type": "markdown",
   "metadata": {
    "tags": []
   },
   "source": [
    "### Indexed access"
   ]
  },
  {
   "cell_type": "code",
   "execution_count": null,
   "metadata": {},
   "outputs": [],
   "source": [
    "# Creates a matrix of size (3, 4) \n",
    "# [[ 1  2  3  4] \n",
    "#  [ 5  6  7  8] \n",
    "#  [ 9 10 11 12]] \n",
    "a = np.array([[1,2,3,4], [5,6,7,8], [9,10,11,12]]) \n",
    "\n",
    "# Indexes a submatrix \n",
    "# [[2 3] \n",
    "#  [6 7]] \n",
    "b = a[:2, 1:3] \n",
    "\n",
    "# Indexes an element \n",
    "print(a[0, 1])   # Prints \"2\" \n",
    "b[0, 0] = 77     # b[0, 0] is the same data as a[0, 1] \n",
    "print(a[0, 1])   # Prints \"77\" "
   ]
  },
  {
   "cell_type": "code",
   "execution_count": null,
   "metadata": {},
   "outputs": [],
   "source": [
    "a = np.array([[1,2], [3, 4], [5, 6]]) \n",
    "\n",
    "# An example of integer array indexing. \n",
    "# The returned array will have shape (3,) and \n",
    "print(a[[0, 1, 2], [0, 1, 0]])  # Prints \"[1 4 5]\" \n",
    "\n",
    "# The above example of integer array indexing is equivalent to this: \n",
    "print(np.array([a[0, 0], a[1, 1], a[2, 0]]))  # Prints \"[1 4 5]\" \n",
    "\n",
    "# When using integer array indexing, you can reuse the same \n",
    "# element from the source array: \n",
    "print(a[[0, 0], [1, 1]])  # Prints \"[2 2]\" \n",
    "\n",
    "# Equivalent to the previous integer array indexing example \n",
    "print(np.array([a[0, 1], a[0, 1]]))  # Prints \"[2 2]\" "
   ]
  },
  {
   "cell_type": "code",
   "execution_count": null,
   "metadata": {},
   "outputs": [],
   "source": [
    "a = np.array([[1,2,3], [4,5,6], [7,8,9], [10, 11, 12]]) \n",
    "print(a)  # prints \"array([[ 1,  2,  3], \n",
    "          #                [ 4,  5,  6], \n",
    "          #                [ 7,  8,  9], \n",
    "          #                [10, 11, 12]])\" \n",
    "\n",
    "# Creates a vector of indexes\n",
    "b = np.array([0, 2, 0, 1]) \n",
    "\n",
    "# Selects one element from each row with the indices of b \n",
    "print(a[np.arange(4), b])  # Prints \"[ 1  6  7 11]\" \n",
    "\n",
    "# Increases by 10 units one element of each row with the indices of b\n",
    "a[np.arange(4), b] += 10 \n",
    "print(a)  # prints \"array([[11,  2,  3], \n",
    "          #                [ 4,  5, 16], \n",
    "          #                [17,  8,  9], \n",
    "          #                [10, 21, 12]]) "
   ]
  },
  {
   "cell_type": "code",
   "execution_count": null,
   "metadata": {},
   "outputs": [],
   "source": [
    "a = np.array([[1,2], [3, 4], [5, 6]]) \n",
    "\n",
    "bool_idx = (a > 2)   # Finds the elements that are greater than 2;\n",
    "                     # returns an array of Booleans of the same size as a\n",
    "print(bool_idx)      # Prints \"[[False False] \n",
    "                     #          [ True  True] \n",
    "                     #          [ True  True]]\" \n",
    "\n",
    "# Boolean array can be used to access the elements True \n",
    "print(a[bool_idx])  # Prints \"[3 4 5 6]\" \n",
    "\n",
    "# All of the above can be implemented in one line:\n",
    "print(a[a > 2])     # Prints \"[3 4 5 6]\" "
   ]
  },
  {
   "cell_type": "code",
   "execution_count": null,
   "metadata": {},
   "outputs": [],
   "source": [
    "# Data type of the matrix elements\n",
    "x = np.array([1, 2])   # Numpy chooses the datatype\n",
    "print(x.dtype)         # Prints \"int64\" \n",
    "\n",
    "x = np.array([1.0, 2.0])   # Numpy chooses the datatype\n",
    "print(x.dtype)             # Prints \"float64\" \n",
    "\n",
    "x = np.array([1, 2], dtype=np.int64)   # We force a particular datatype\n",
    "print(x.dtype)                         # Prints \"int64\" "
   ]
  },
  {
   "cell_type": "markdown",
   "metadata": {
    "tags": []
   },
   "source": [
    "### Element-by-element operations"
   ]
  },
  {
   "cell_type": "code",
   "execution_count": null,
   "metadata": {},
   "outputs": [],
   "source": [
    "x = np.array([[1,2],[3,4]], dtype=np.float64) \n",
    "y = np.array([[5,6],[7,8]], dtype=np.float64) \n",
    "\n",
    "# Two ways to add element to element\n",
    "# [[ 6.0  8.0] \n",
    "#  [10.0 12.0]] \n",
    "print(x + y) \n",
    "print(np.add(x, y)) \n",
    "\n",
    "# Two ways to add element to element \n",
    "# [[-4.0 -4.0] \n",
    "#  [-4.0 -4.0]] \n",
    "print(x - y) \n",
    "print(np.subtract(x, y)) \n",
    "\n",
    "# Two ways of multiplying element to element\n",
    "# [[ 5.0 12.0] \n",
    "#  [21.0 32.0]] \n",
    "print(x * y) \n",
    "print(np.multiply(x, y)) \n",
    "\n",
    "# Two ways to divide element by element\n",
    "# [[ 0.2         0.33333333] \n",
    "#  [ 0.42857143  0.5       ]] \n",
    "print(x / y) \n",
    "print(np.divide(x, y)) \n",
    "\n",
    "# Square root element by element\n",
    "# [[ 1.          1.41421356] \n",
    "#  [ 1.73205081  2.        ]] \n",
    "print(np.sqrt(x)) "
   ]
  },
  {
   "cell_type": "markdown",
   "metadata": {},
   "source": [
    "### Matrix operations"
   ]
  },
  {
   "cell_type": "code",
   "execution_count": null,
   "metadata": {},
   "outputs": [],
   "source": [
    "x = np.array([[1,2],[3,4]]) \n",
    "y = np.array([[5,6],[7,8]]) \n",
    "\n",
    "v = np.array([9,10]) \n",
    "w = np.array([11, 12]) \n",
    "\n",
    "# Scalar product of two vectorss; prints 219 \n",
    "print(v.dot(w)) \n",
    "print(np.dot(v, w)) \n",
    "\n",
    "# Matrix product by vector; prints vector [29 67] \n",
    "print(x.dot(v)) \n",
    "print(np.dot(x, v)) \n",
    "\n",
    "# Product of matrix by matrix;  prints the matrix:\n",
    "# [[19 22] \n",
    "#  [43 50]] \n",
    "print(x.dot(y)) \n",
    "print(np.dot(x, y)) "
   ]
  },
  {
   "cell_type": "code",
   "execution_count": null,
   "metadata": {},
   "outputs": [],
   "source": [
    "x = np.array([[1,2],[3,4]])\n",
    "\n",
    "print(np.sum(x))  # Sums all elements; prints \"10\" \n",
    "print(np.sum(x, axis=0))  # Sums the elements of each column; prints \"[4 6]\" \n",
    "print(np.sum(x, axis=1))  # Sums the elements of each row; prints \"[3 7]\" "
   ]
  },
  {
   "cell_type": "code",
   "execution_count": null,
   "metadata": {},
   "outputs": [],
   "source": [
    "x = np.array([[1,2], [3,4]]) \n",
    "\n",
    "print(x)    # Prints \"[[1 2] \n",
    "            #          [3 4]]\" \n",
    "print(x.T)  # Prints \"[[1 3] \n",
    "            #          [2 4]]\" \n",
    "\n",
    "# NNote: the transpose of a vector does nothing\n",
    "v = np.array([1,2,3]) \n",
    "print(v)    # Imprime \"[1 2 3]\" \n",
    "print(v.T)  # Imprime \"[1 2 3]\" "
   ]
  },
  {
   "cell_type": "markdown",
   "metadata": {
    "tags": []
   },
   "source": [
    "### Propagation or 'broadcasting'"
   ]
  },
  {
   "cell_type": "code",
   "execution_count": null,
   "metadata": {},
   "outputs": [],
   "source": [
    "# Add vector v to each row of matrix x,\n",
    "# storing the result in matrix y\n",
    "x = np.array([[1,2,3], [4,5,6], [7,8,9], [10, 11, 12]]) \n",
    "v = np.array([1, 0, 1]) \n",
    "y = np.empty_like(x)   # Creates an empty array with the same size as x \n",
    "\n",
    "# Adds vector v to each row of matrix x with an explicit loop \n",
    "for i in range(4): \n",
    "    y[i, :] = x[i, :] + v \n",
    "\n",
    "print(y)    # Prints [[ 2  2  4] \n",
    "            #         [ 5  5  7] \n",
    "            #         [ 8  8 10] \n",
    "            #         [11 11 13]] "
   ]
  },
  {
   "cell_type": "code",
   "execution_count": null,
   "metadata": {},
   "outputs": [],
   "source": [
    "# Adds vector v to each row of matrix x, \n",
    "# storing the result in matrix y \n",
    "x = np.array([[1,2,3], [4,5,6], [7,8,9], [10, 11, 12]]) \n",
    "v = np.array([1, 0, 1]) \n",
    "vv = np.tile(v, (4, 1))   # 4 copies of v are stacked on top of each other\n",
    "print(vv)                 # Prints \"[[1 0 1] \n",
    "                          #          [1 0 1] \n",
    "                          #          [1 0 1] \n",
    "                          #          [1 0 1]]\" \n",
    "\n",
    "y = x + vv  # Sums x and vv element by element \n",
    "print(y)  # Prints \"[[ 2  2  4 \n",
    "          #          [ 5  5  7] \n",
    "          #          [ 8  8 10] \n",
    "          #          [11 11 13]]\" "
   ]
  },
  {
   "cell_type": "code",
   "execution_count": null,
   "metadata": {},
   "outputs": [],
   "source": [
    "x = np.array([[1,2,3], [4,5,6], [7,8,9], [10, 11, 12]]) \n",
    "v = np.array([1, 0, 1]) \n",
    "\n",
    "y = x + v  # Adds v to each row of x using propagation or 'broadcasting'\n",
    "print(y)  # Prints \"[[ 2  2  4] \n",
    "          #          [ 5  5  7] \n",
    "          #          [ 8  8 10] \n",
    "          #          [11 11 13]]\" "
   ]
  },
  {
   "cell_type": "code",
   "execution_count": null,
   "metadata": {},
   "outputs": [],
   "source": [
    "# Calculates the outer product of two vectors\n",
    "v = np.array([1,2,3])  # v has shape (3,) \n",
    "w = np.array([4,5])    # w has shape (2,) \n",
    "# First, v is transformed into column format\n",
    "# and then the product with propagation 'broadcast' against w is performed: \n",
    "# [[ 4  5] \n",
    "#  [ 8 10] \n",
    "#  [12 15]] \n",
    "print(np.reshape(v, (3, 1)) * w) \n",
    "\n",
    "# Adds one vector to each row of the matrix\n",
    "x = np.array([[1,2,3], [4,5,6]]) \n",
    "# x has size (2, 3) and v (3,) then it propagates to (2, 3), resulting in:\n",
    "# [[2 4 6] \n",
    "#  [5 7 9]] \n",
    "print(x + v) \n",
    "\n",
    "\n",
    "# Adds a vector to each column of the matrix\n",
    "# x has size (2, 3) and w (2,).\n",
    "# If we transpose x then it has size (3, 2) and can be propagated\n",
    "# against w to produce a result of size (3, 2); by transposing\n",
    "# this result we will have a size of (2, 3):: \n",
    "# [[ 5  6  7] \n",
    "#  [ 9 10 11]] \n",
    "print((x.T + w).T) \n",
    "\n",
    "# Another solution is to format w to a column vector (2, 1);\n",
    "# then it can be propagated directly against x:\n",
    "print(x + np.reshape(w, (2, 1))) \n",
    "\n",
    "# Multiply a matrix by a constant: \n",
    "# x has size (2, 3). Numpy treats scalars as vectors of (); \n",
    "# propagation against (2, 3), produces the following result: \n",
    "# [[ 2  4  6] \n",
    "#  [ 8 10 12]] \n",
    "print(x * 2) "
   ]
  },
  {
   "cell_type": "markdown",
   "metadata": {},
   "source": [
    "## Type conversion between Numpy and Python"
   ]
  },
  {
   "cell_type": "code",
   "execution_count": null,
   "metadata": {},
   "outputs": [],
   "source": [
    "a = np.arange(10)\n",
    "print(a)\n",
    "\n",
    "b = list(a)        # Conversion from ndarray to list\n",
    "b[5]='hola'\n",
    "print(b)\n",
    "\n",
    "if 0 in b:\n",
    "    print(True)\n",
    "    \n",
    "print(a)           # variables a and b are independent\n",
    "\n",
    "c = np.asarray(b)  # Conversion from list to ndarray\n",
    "print(c)"
   ]
  },
  {
   "cell_type": "code",
   "execution_count": null,
   "metadata": {},
   "outputs": [],
   "source": [
    "a = np.arange(10)\n",
    "print(a)\n",
    "\n",
    "b = tuple(a)           # Conversion from ndarray to tuple\n",
    "print(b)\n",
    "\n",
    "if 0 in b:\n",
    "    print(True)\n",
    "    \n",
    "c = np.asarray(b)      # Tuple to ndarray conversion\n",
    "print(c)"
   ]
  },
  {
   "cell_type": "markdown",
   "metadata": {},
   "source": [
    "## Random number generation"
   ]
  },
  {
   "cell_type": "code",
   "execution_count": null,
   "metadata": {},
   "outputs": [],
   "source": [
    "e = np.random.random((2,2))  # Creates a 2x2 array of random numbers\n",
    "print(e)                     # Prints aprox. \"[[ 0.91940167  0.08143941] \n",
    "                             #                 [ 0.68744134  0.87236687]]\" \n",
    "print(np.random.uniform(-1.0,1.0))"
   ]
  },
  {
   "cell_type": "markdown",
   "metadata": {},
   "source": [
    "# References\n",
    "+ [Python documentation](https://docs.python.org/3/)\n",
    "+ [Numpy documentation](https://numpy.org/doc/)\n",
    "+ [NumPy Quick Tutorial](https://numpy.org/devdocs/user/quickstart.html)\n",
    "+ [NumPy Reference Manual](https://numpy.org/devdocs/reference/index.html#reference)\n",
    "+ [Numerical Python : Scientific Computing and Data Science Applications with Numpy, SciPy and Matplotlib. by Johansson, Robert. 2nd ed, Apress, 2019](https://link.springer.com/book/10.1007%2F978-1-4842-4246-9)."
   ]
  }
 ],
 "metadata": {
  "authors": [
   {
    "name": "Antonio J. Sánchez Salmerón"
   }
  ],
  "kernelspec": {
   "display_name": "Python 3 (ipykernel)",
   "language": "python",
   "name": "python3"
  },
  "language_info": {
   "codemirror_mode": {
    "name": "ipython",
    "version": 3
   },
   "file_extension": ".py",
   "mimetype": "text/x-python",
   "name": "python",
   "nbconvert_exporter": "python",
   "pygments_lexer": "ipython3",
   "version": "3.8.13"
  },
  "title": "Python and Numpy",
  "toc-autonumbering": false,
  "toc-showcode": false,
  "toc-showmarkdowntxt": false,
  "toc-showtags": false
 },
 "nbformat": 4,
 "nbformat_minor": 4
}
