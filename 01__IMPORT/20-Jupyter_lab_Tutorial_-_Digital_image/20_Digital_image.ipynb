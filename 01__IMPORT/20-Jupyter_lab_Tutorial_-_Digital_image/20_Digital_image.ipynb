{
 "cells": [
  {
   "cell_type": "markdown",
   "metadata": {},
   "source": [
    "+ Requirements:\n",
    "    1. The estimated time for this activity is approximately half an hour.\n",
    "<br><br>\n",
    "+ Objectives of this notebook:\n",
    "    1. To understand what is an image.\n",
    "    2. Introduction to OpenCV: learning to read, write, and show images.\n",
    "<br><br>\n",
    "+ Summary of activities:\n",
    "    1. Presentation of basic concepts.\n",
    "    2. The properties of an image will be analyzed using Python code snippets to read, write and show images."
   ]
  },
  {
   "cell_type": "markdown",
   "metadata": {},
   "source": [
    "%%latex\n",
    "\\tableofcontents\n",
    "\\newpage"
   ]
  },
  {
   "cell_type": "markdown",
   "metadata": {},
   "source": [
    "# What is a digital image?"
   ]
  },
  {
   "cell_type": "code",
   "execution_count": 1,
   "metadata": {},
   "outputs": [
    {
     "data": {
      "image/jpeg": "[encoded data removed]",
      "text/html": [
       "\n",
       "        <iframe\n",
       "            width=\"400\"\n",
       "            height=\"300\"\n",
       "            src=\"https://www.youtube.com/embed/TVTn7mYKegY?start=2&end=306\"\n",
       "            frameborder=\"0\"\n",
       "            allowfullscreen\n",
       "            \n",
       "        ></iframe>\n",
       "        "
      ],
      "text/plain": [
       "<IPython.lib.display.YouTubeVideo at 0x17ff7395a90>"
      ]
     },
     "execution_count": 1,
     "metadata": {},
     "output_type": "execute_result"
    }
   ],
   "source": [
    "from IPython.display import YouTubeVideo\n",
    "YouTubeVideo('TVTn7mYKegY',start=2, end=5*60+6)"
   ]
  },
  {
   "cell_type": "markdown",
   "metadata": {},
   "source": [
    "# Introduction to OpenCV\n",
    "In Python you always start by importing all the required modules:"
   ]
  },
  {
   "cell_type": "code",
   "execution_count": null,
   "metadata": {},
   "outputs": [],
   "source": [
    "import numpy as np  # the numpy module is associated with the alias np\n",
    "import cv2          # OpenCV module\n",
    "import matplotlib.pyplot as plt  # the matplotlib.pyplot with the alias plt"
   ]
  },
  {
   "cell_type": "code",
   "execution_count": null,
   "metadata": {},
   "outputs": [],
   "source": [
    "# **** It is important to consult the help of the version you are using ****\n",
    "!python --version\n",
    "print('Numpy:',np.__version__)\n",
    "print('OpenCv:',cv2.__version__)"
   ]
  },
  {
   "cell_type": "markdown",
   "metadata": {
    "tags": []
   },
   "source": [
    "### Read image"
   ]
  },
  {
   "cell_type": "code",
   "execution_count": null,
   "metadata": {},
   "outputs": [],
   "source": [
    "# Ceneration of img_original.bmp image\n",
    "#zeros = np.zeros((288,360,3), np.uint8)\n",
    "#b,g,r = cv2.split(zeros)\n",
    "#b = cv2.circle(b, (180, 144+25), 50, 255, -1)\n",
    "#g = cv2.circle(g, (180-25, 144-25), 50, 255, -1)\n",
    "#r = cv2.circle(r, (180+25, 144-25), 50, 255, -1)\n",
    "#img=cv2.merge([b,g,r])\n",
    "#ret_ok = cv2.imwrite('../imgs/img_original.bmp', img)"
   ]
  },
  {
   "cell_type": "code",
   "execution_count": null,
   "metadata": {},
   "outputs": [],
   "source": [
    "# TODO later: Run this notebook reading 'img_circles.bmp' image\n",
    "#img = cv2.imread('imgs/img_original.bmp')\n",
    "img = cv2.imread('imgs/img_circles.bmp')\n",
    "print(type(img)) # Prints <class 'numpy.ndarray'>\n",
    "print(img.dtype) # Prints 'uint8'\n",
    "print(img.shape) # Prints '(288, 360, 3)'\n",
    "height, width, channels = img.shape"
   ]
  },
  {
   "cell_type": "markdown",
   "metadata": {},
   "source": [
    "### Show image"
   ]
  },
  {
   "cell_type": "code",
   "execution_count": null,
   "metadata": {
    "tags": []
   },
   "outputs": [],
   "source": [
    "cv2.imshow('Image', img) # Opens a window to show the image\n",
    "cv2.waitKey(0)           # Waits until key pressed on the window Image\n",
    "cv2.destroyAllWindows()  # Closes the window"
   ]
  },
  {
   "cell_type": "markdown",
   "metadata": {},
   "source": [
    "### Write image\n",
    "By default, the '.jpg' format compresses the image losing some information."
   ]
  },
  {
   "cell_type": "code",
   "execution_count": null,
   "metadata": {},
   "outputs": [],
   "source": [
    "ret_ok = cv2.imwrite('imgs/img_saved.jpg', img)\n",
    "print('Imagen saved:', ret_ok)"
   ]
  },
  {
   "cell_type": "code",
   "execution_count": null,
   "metadata": {},
   "outputs": [],
   "source": [
    "# When saving an image in '.jpg' format the information is compressed\n",
    "# and there is loss of information\n",
    "img_readed = cv2.imread('imgs/img_saved.jpg')\n",
    "if (img_readed == img).all(): # if all pixels are equal\n",
    "    print('Equal images...')\n",
    "else:\n",
    "    print('Different images...')"
   ]
  },
  {
   "cell_type": "code",
   "execution_count": null,
   "metadata": {},
   "outputs": [],
   "source": [
    "# In order not to lose information from the original image, the image must be\n",
    "# saved with maximum quality in '.bmp' format\n",
    "ret_ok = cv2.imwrite('imgs/img_saved.bmp', img)\n",
    "img_readed = cv2.imread('imgs/img_saved.bmp')\n",
    "if (img_readed == img).all(): # if all pixels are equal\n",
    "    print('Equal images...')\n",
    "else:\n",
    "    print('Different images...')"
   ]
  },
  {
   "cell_type": "markdown",
   "metadata": {},
   "source": [
    "### Changing image resolution\n",
    "The image is showed at different resolutions according to the ratio."
   ]
  },
  {
   "cell_type": "code",
   "execution_count": null,
   "metadata": {},
   "outputs": [],
   "source": [
    "ratios = (16, 32, 64)\n",
    "for ratio in ratios:\n",
    "    width_ratio = ratio\n",
    "    height_ratio = ratio\n",
    "    new_size = ( max(int(width/width_ratio), 1), max(int(height/height_ratio), 1) )\n",
    "    img_resized = cv2.resize(img, new_size, interpolation = cv2.INTER_AREA)\n",
    "    print('The size of the img_resized is: ', img_resized.shape)\n",
    "\n",
    "    # Showing img_resized\n",
    "    cv2.imshow('Image', img_resized) \n",
    "    cv2.waitKey(0)           \n",
    "    cv2.destroyAllWindows() \n",
    "\n",
    "    # If the image is smaller than 32 pixels, the values of the matrix are printed\n",
    "    pixels_num = new_size[0]*new_size[1]\n",
    "    if pixels_num < 32:\n",
    "        print('--------------------------------------------------------------')\n",
    "        print(img_resized[:,:,0]) # Prints Blue channel (B)\n",
    "        print(img_resized[:,:,1]) # Prints Green channel (G)\n",
    "        print(img_resized[:,:,2]) # Prints Red channel (R)\n",
    "        print('--------------------------------------------------------------')"
   ]
  },
  {
   "cell_type": "markdown",
   "metadata": {
    "tags": []
   },
   "source": [
    "### How to access the pixel values?"
   ]
  },
  {
   "cell_type": "code",
   "execution_count": null,
   "metadata": {},
   "outputs": [],
   "source": [
    "# Accessing an array 'numpy.ndarray' is equivalent to Matlab\n",
    "\n",
    "# Gets the BGR value of the first pixel (0,0)\n",
    "bgr_00 = img_resized[0,0,:]\n",
    "print('BGR value of pixel (0,0) =', bgr_00)\n",
    "\n",
    "# Gets the BGR value of the center pixel\n",
    "p = np.asarray(np.int16(img_resized.shape[0:2]/np.asarray([2])))\n",
    "bgr_p = img_resized[p[0],p[1],:]\n",
    "print('BGR value of pixel ('+str(p[0])+','+str(p[1])+') =', bgr_p)\n",
    "\n",
    "# Gets the BGR value of the last pixel\n",
    "p = np.asarray(img_resized.shape[0:2])-np.asarray([1,1])\n",
    "bgr_p = img_resized[p[0],p[1],:]\n",
    "print('BGR value of pixel ('+str(p[0])+','+str(p[1])+') =', bgr_p)"
   ]
  },
  {
   "cell_type": "markdown",
   "metadata": {},
   "source": [
    "### How to get an image channel?"
   ]
  },
  {
   "cell_type": "code",
   "execution_count": null,
   "metadata": {},
   "outputs": [],
   "source": [
    "img_green = img[:,:,1]\n",
    "\n",
    "# Prints the size of the image matrix\n",
    "print('The size of the image is: ', img_green.shape)\n",
    "\n",
    "# Prints the type of the image matrix\n",
    "print('The type of the image is:',type(img_green),'of', img_green.dtype)\n",
    "\n",
    "# Shows the green channel\n",
    "cv2.imshow('Image green', img_green) \n",
    "cv2.waitKey(0)           \n",
    "cv2.destroyAllWindows() "
   ]
  },
  {
   "cell_type": "code",
   "execution_count": null,
   "metadata": {},
   "outputs": [],
   "source": [
    "# Shows the gray image as an BGR image\n",
    "img_gray_bgr = cv2.merge([img_green, img_green, img_green])\n",
    "\n",
    "# Prints the size of the image matrix\n",
    "print('The size of the image is: ', img_gray_bgr.shape)\n",
    "\n",
    "# Prints the type of the image matrix\n",
    "print('The type of the image is:',type(img_gray_bgr),'of', img_gray_bgr.dtype)\n",
    "\n",
    "cv2.imshow('Image gray as bgr', img_gray_bgr) \n",
    "cv2.waitKey(0)           \n",
    "cv2.destroyAllWindows() "
   ]
  },
  {
   "cell_type": "markdown",
   "metadata": {},
   "source": [
    "### Image BGR channels"
   ]
  },
  {
   "cell_type": "code",
   "execution_count": null,
   "metadata": {},
   "outputs": [],
   "source": [
    "# Split the BGR image into three planes\n",
    "blue, green, red = cv2.split(img)\n",
    "\n",
    "# Composing an image containing the three channels (represented in color)\n",
    "zeros = np.zeros(blue.shape, np.uint8)\n",
    "img_composition = np.zeros((height, width*3, channels), np.uint8)\n",
    "img_composition[:,         0:width, :] = cv2.merge([blue, zeros, zeros])\n",
    "img_composition[:,   width:2*width, :] = cv2.merge([zeros, green, zeros])\n",
    "img_composition[:, 2*width:3*width, :] = cv2.merge([zeros, zeros, red])\n",
    "\n",
    "# Shows the composition image\n",
    "cv2.imshow('Composition', img_composition) \n",
    "cv2.waitKey(0)           \n",
    "cv2.destroyAllWindows() \n",
    "\n",
    "# Composing an image containing the three channels (represented in gray)\n",
    "img_composition = np.zeros((height, width*3, channels), np.uint8)\n",
    "img_composition[:,         0:width, :] = cv2.merge([blue, blue, blue])\n",
    "img_composition[:,   width:2*width, :] = cv2.merge([green, green, green])\n",
    "img_composition[:, 2*width:3*width, :] = cv2.merge([red, red, red])\n",
    "\n",
    "# Shows the composition image\n",
    "cv2.imshow('Composition', img_composition) \n",
    "cv2.waitKey(0)           \n",
    "cv2.destroyAllWindows() "
   ]
  },
  {
   "cell_type": "markdown",
   "metadata": {},
   "source": [
    "# References\n",
    "+ [Python documentation](https://docs.python.org/3/)\n",
    "+ [Numpy documentation](https://numpy.org/doc/)\n",
    "+ [Documentación de OpenCV 4.5](https://docs.opencv.org/4.5.0/)\n",
    "+ [Machine Learning for OpenCV 4 - Second Edition\n",
    "by Vishwesh Ravi Shrimali; Michael Beyeler; Aditya Sharma\n",
    "Published by Packt Publishing, 2019](https://learning.oreilly.com/library/view/machine-learning-for/9781789536300/cover.xhtml)\n",
    "+ [Machine Learning for OpenCV 4 : Intelligent Algorithms for Building Image Processing Apps Using OpenCV 4, Python, and Scikit-Learn. by Sharma, Aditya, et al. Second edition., 201](https://polibuscador.upv.es/permalink/f/6ptg6i/alma5191663190003706)"
   ]
  }
 ],
 "metadata": {
  "authors": [
   {
    "name": "Antonio J. Sánchez Salmerón"
   }
  ],
  "kernelspec": {
   "display_name": "Python 3 (ipykernel)",
   "language": "python",
   "name": "python3"
  },
  "language_info": {
   "codemirror_mode": {
    "name": "ipython",
    "version": 3
   },
   "file_extension": ".py",
   "mimetype": "text/x-python",
   "name": "python",
   "nbconvert_exporter": "python",
   "pygments_lexer": "ipython3",
   "version": "3.8.13"
  },
  "title": "Digital Image",
  "toc-autonumbering": true,
  "toc-showcode": false,
  "toc-showmarkdowntxt": false,
  "toc-showtags": false
 },
 "nbformat": 4,
 "nbformat_minor": 4
}
